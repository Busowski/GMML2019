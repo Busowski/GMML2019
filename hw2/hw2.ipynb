{
 "cells": [
  {
   "cell_type": "markdown",
   "metadata": {},
   "source": [
    "# Geometrical Methods in Machine Learning\n",
    "## Homework 2"
   ]
  },
  {
   "cell_type": "markdown",
   "metadata": {},
   "source": [
    "### Part 1: Manifold learning + intrinsic dimension estimation\n",
    "\n",
    "Obtain `Extended Yale B` face dataset ([download](http://vision.ucsd.edu/extyaleb/CroppedYaleBZip/CroppedYale.zip)) which is comprised of 100x100 pixels images of 38 persons times 64 illumination conditions. Resize images to 32x32 pixels. You can do it using `Pillow` ([link](https://pillow.readthedocs.io/), tested) or any other image processing library of your choice.\n",
    "\n",
    "Estimate the intrinsic dimensionality with a method of your choice (see [seminar 3](https://githib.com/oleg-kachan/GMML2019/seminar3)) and perform dimensionality reduction to entrinsic dimension $\\hat{d}$ and dimensions 2 and/or 3 for visualization purposes using manifold learning methods of your choice.\n",
    "\n",
    "Compute NPR (neiborhood preservation ratio, see [seminar 4](https://githib.com/oleg-kachan/GMML2019/seminar4)) of algorithms you have used for 2-3 different values of $d = \\{2$ and/or $3, \\hat{d} \\}$ and fixed number of nearest neighbors $k$. \n",
    "\n",
    "Explore the embedding space of size 2 and/or 3 for clusters and meaningful interpretations, comment the possible meaning of the new coordinates.\n",
    "\n",
    "Alternatively, you can perform this task on sklearn's `Olivetti faces` dataset."
   ]
  },
  {
   "cell_type": "markdown",
   "metadata": {},
   "source": [
    "### Part 2: Topological data analysis\n",
    "\n",
    "Consider [molecules](https://github.com/oleg-kachan/GMML2019/tree/master/hw2/data/molecules) dataset. Each molecule is represented by a point cloud - an arbitrary number of points in 3-dimensional space, corresponding to chemical elements constituting the molecule. Each point also have a label, which we omit for this task.\n",
    "\n",
    "Obtain topological summary  of each molecule's point cloud in the form of a persistent diagram $H_1$, counting 2-dimensional topological holes in the data. Perform the embedding of each point cloud as a single point in 2-dimensional space, using MDS and sliced wasserstein distance between persistent diagrams of point clouds as a metric. Conclude if there are any structure and meaningful clusters in the resulting data embedding.\n",
    "\n",
    "Consider chemical [isomers](https://github.com/oleg-kachan/GMML2019/tree/master/hw2/data/isomers) dataset, containing three different isomers of the same molecule, with the same `label-x-y-z` structure as in the previous dataset. Roughly speaking, isomer is a molecule having the same chemical formula, but different geometric configuration. TDA approach can easiliy separate all three different isomers, so let us study a more complicated problem involving the presence of noise in the data.\n",
    "\n",
    "Obtain 50-100 noisy samples of each isomer, by adding i.i.d. gaussian noise to each point in its' point cloud. Compute persistent diagram $H_1$ of each noisy sample. Estimate the value of standard deviation $\\sigma$ of gaussian noise, under which classifier of your choice is able to perform with 90% accuracy. For vectorization of persistent diagrams use either MDS embedding w/ sliced wasserstein distance as a metric to $n$-dimensional space with your choice of $n$ or persistent images approach.\n",
    "\n",
    "In the case of any questions, see [seminar 5](https://githib.com/oleg-kachan/GMML2019/seminar5) which contains all required information to complete this part of the homework."
   ]
  },
  {
   "cell_type": "markdown",
   "metadata": {},
   "source": [
    "#### Grading:\n",
    "\n",
    "8/10 points are awarded for completing all the tasks and giving proper comments  \n",
    "2/10 points are awarded for the quality of presentation  \n",
    "+1 extra point may be awarded for an extra work performed"
   ]
  }
 ],
 "metadata": {
  "kernelspec": {
   "display_name": "Python 3",
   "language": "python",
   "name": "python3"
  },
  "language_info": {
   "codemirror_mode": {
    "name": "ipython",
    "version": 3
   },
   "file_extension": ".py",
   "mimetype": "text/x-python",
   "name": "python",
   "nbconvert_exporter": "python",
   "pygments_lexer": "ipython3",
   "version": "3.7.2"
  }
 },
 "nbformat": 4,
 "nbformat_minor": 2
}
