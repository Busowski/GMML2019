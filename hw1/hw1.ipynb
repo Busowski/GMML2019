{
 "cells": [
  {
   "cell_type": "markdown",
   "metadata": {},
   "source": [
    "# Geometrical Methods in Machine Learning\n",
    "## Homework 1"
   ]
  },
  {
   "cell_type": "markdown",
   "metadata": {},
   "source": [
    "Consider FIFA 19 players dataset - https://www.kaggle.com/karangadiya/fifa19.\n",
    "\n",
    "### Part 1: PCA + interpretation\n",
    "\n",
    "Apply PCA analysis to data to find PCA estimate of data dimensionality given by the number of variables explaining 80% and 95% of the variance.\n",
    "\n",
    "Draw and interpret biplots of the first two principal components and top 10 features with the highest influence (largest absolute eigenvalue coefficient) to each first two principal components. Conclude whether feature groupings present in data - https://sofifa.com - (for example Attacking group consisting of Crossing, Finishing, Heading Accuracy, Short Passing, Volleys) coincide with corresponding coefficients of principal components (whether the vectors of coefficients are close in terms of scalar product, thus heading in the same direction on a biplot). \n",
    "\n",
    "Comment whether PCA is applicable to categorical variables.\n",
    "\n",
    "### Part 2: PCA + regression\n",
    "\n",
    "Consider the regression problem of predicting a target variable of _negotiation value_ of a player given by value to wage ratio. Apply a number of classifiers of your choice on raw data and reduced data of various dimensions, based on raw player performance features (exclude overall and potential rankings).\n",
    "\n",
    "Perform a feature selection, selecting top 10 performing features, with any technique you know, compare them with top 10 features influencing first two principal components. Compare top 10 features influencing first two principal components with top 10 features most absolutely correlated with the target.\n",
    "\n",
    "#### Grading:\n",
    "\n",
    "8/10 points are awarded for completing all the tasks and giving proper comments  \n",
    "2/10 points are awarded for the quality of presentation  \n",
    "+1 extra point may be awarded for an extra work performed"
   ]
  }
 ],
 "metadata": {
  "kernelspec": {
   "display_name": "Python 3",
   "language": "python",
   "name": "python3"
  },
  "language_info": {
   "codemirror_mode": {
    "name": "ipython",
    "version": 3
   },
   "file_extension": ".py",
   "mimetype": "text/x-python",
   "name": "python",
   "nbconvert_exporter": "python",
   "pygments_lexer": "ipython3",
   "version": "3.7.2"
  }
 },
 "nbformat": 4,
 "nbformat_minor": 2
}
